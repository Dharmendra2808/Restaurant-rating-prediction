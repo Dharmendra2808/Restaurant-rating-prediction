{
 "cells": [
  {
   "cell_type": "markdown",
   "id": "92142b74",
   "metadata": {},
   "source": [
    "# Restaurant Rating Prediction"
   ]
  },
  {
   "cell_type": "markdown",
   "id": "66ba8788",
   "metadata": {},
   "source": [
    "## Problem Statement:\n",
    "### The main goal of this project is to perform extensive Exploratory Data Analysis(EDA) on the Zomato Dataset and build an appropriate Machine Learning Model that will help various Zomato Restaurants to predict their respective Ratings based on certain features."
   ]
  },
  {
   "cell_type": "markdown",
   "id": "f314a3e2",
   "metadata": {},
   "source": [
    "## Approach:\n",
    "### We will Perform extensive Exploratory Data Analysis (EDA) and Build an appropriate Machine Learning Model by applying the Machine Learning algorithm that will help various Zomato Restaurants to predict their respective Ratings based on certain features."
   ]
  },
  {
   "cell_type": "markdown",
   "id": "aa08c02c",
   "metadata": {},
   "source": [
    "## Let's import all the necessary libraries "
   ]
  },
  {
   "cell_type": "code",
   "execution_count": 35,
   "id": "09f6cd1b",
   "metadata": {},
   "outputs": [],
   "source": [
    "import numpy as np                              \n",
    "import pandas as pd                \n",
    "import matplotlib.pyplot as plt   \n",
    "import seaborn as sns              \n",
    "%matplotlib inline\n",
    "sns.set()\n",
    "import warnings\n",
    "warnings.filterwarnings('ignore')"
   ]
  },
  {
   "cell_type": "markdown",
   "id": "3fdd0ddb",
   "metadata": {},
   "source": [
    "## Let's Load Data"
   ]
  },
  {
   "cell_type": "code",
   "execution_count": 36,
   "id": "ee3aecd6",
   "metadata": {},
   "outputs": [],
   "source": [
    "data = pd.read_csv(\"zomato.csv\")"
   ]
  },
  {
   "cell_type": "code",
   "execution_count": 37,
   "id": "7f85acae",
   "metadata": {},
   "outputs": [
    {
     "data": {
      "text/html": [
       "<div>\n",
       "<style scoped>\n",
       "    .dataframe tbody tr th:only-of-type {\n",
       "        vertical-align: middle;\n",
       "    }\n",
       "\n",
       "    .dataframe tbody tr th {\n",
       "        vertical-align: top;\n",
       "    }\n",
       "\n",
       "    .dataframe thead th {\n",
       "        text-align: right;\n",
       "    }\n",
       "</style>\n",
       "<table border=\"1\" class=\"dataframe\">\n",
       "  <thead>\n",
       "    <tr style=\"text-align: right;\">\n",
       "      <th></th>\n",
       "      <th>url</th>\n",
       "      <th>address</th>\n",
       "      <th>name</th>\n",
       "      <th>online_order</th>\n",
       "      <th>book_table</th>\n",
       "      <th>rate</th>\n",
       "      <th>votes</th>\n",
       "      <th>phone</th>\n",
       "      <th>location</th>\n",
       "      <th>rest_type</th>\n",
       "      <th>dish_liked</th>\n",
       "      <th>cuisines</th>\n",
       "      <th>approx_cost(for two people)</th>\n",
       "      <th>reviews_list</th>\n",
       "      <th>menu_item</th>\n",
       "      <th>listed_in(type)</th>\n",
       "      <th>listed_in(city)</th>\n",
       "    </tr>\n",
       "  </thead>\n",
       "  <tbody>\n",
       "    <tr>\n",
       "      <th>0</th>\n",
       "      <td>https://www.zomato.com/bangalore/jalsa-banasha...</td>\n",
       "      <td>942, 21st Main Road, 2nd Stage, Banashankari, ...</td>\n",
       "      <td>Jalsa</td>\n",
       "      <td>Yes</td>\n",
       "      <td>Yes</td>\n",
       "      <td>4.1/5</td>\n",
       "      <td>775</td>\n",
       "      <td>080 42297555\\r\\n+91 9743772233</td>\n",
       "      <td>Banashankari</td>\n",
       "      <td>Casual Dining</td>\n",
       "      <td>Pasta, Lunch Buffet, Masala Papad, Paneer Laja...</td>\n",
       "      <td>North Indian, Mughlai, Chinese</td>\n",
       "      <td>800</td>\n",
       "      <td>[('Rated 4.0', 'RATED\\n  A beautiful place to ...</td>\n",
       "      <td>[]</td>\n",
       "      <td>Buffet</td>\n",
       "      <td>Banashankari</td>\n",
       "    </tr>\n",
       "    <tr>\n",
       "      <th>1</th>\n",
       "      <td>https://www.zomato.com/bangalore/spice-elephan...</td>\n",
       "      <td>2nd Floor, 80 Feet Road, Near Big Bazaar, 6th ...</td>\n",
       "      <td>Spice Elephant</td>\n",
       "      <td>Yes</td>\n",
       "      <td>No</td>\n",
       "      <td>4.1/5</td>\n",
       "      <td>787</td>\n",
       "      <td>080 41714161</td>\n",
       "      <td>Banashankari</td>\n",
       "      <td>Casual Dining</td>\n",
       "      <td>Momos, Lunch Buffet, Chocolate Nirvana, Thai G...</td>\n",
       "      <td>Chinese, North Indian, Thai</td>\n",
       "      <td>800</td>\n",
       "      <td>[('Rated 4.0', 'RATED\\n  Had been here for din...</td>\n",
       "      <td>[]</td>\n",
       "      <td>Buffet</td>\n",
       "      <td>Banashankari</td>\n",
       "    </tr>\n",
       "    <tr>\n",
       "      <th>2</th>\n",
       "      <td>https://www.zomato.com/SanchurroBangalore?cont...</td>\n",
       "      <td>1112, Next to KIMS Medical College, 17th Cross...</td>\n",
       "      <td>San Churro Cafe</td>\n",
       "      <td>Yes</td>\n",
       "      <td>No</td>\n",
       "      <td>3.8/5</td>\n",
       "      <td>918</td>\n",
       "      <td>+91 9663487993</td>\n",
       "      <td>Banashankari</td>\n",
       "      <td>Cafe, Casual Dining</td>\n",
       "      <td>Churros, Cannelloni, Minestrone Soup, Hot Choc...</td>\n",
       "      <td>Cafe, Mexican, Italian</td>\n",
       "      <td>800</td>\n",
       "      <td>[('Rated 3.0', \"RATED\\n  Ambience is not that ...</td>\n",
       "      <td>[]</td>\n",
       "      <td>Buffet</td>\n",
       "      <td>Banashankari</td>\n",
       "    </tr>\n",
       "    <tr>\n",
       "      <th>3</th>\n",
       "      <td>https://www.zomato.com/bangalore/addhuri-udupi...</td>\n",
       "      <td>1st Floor, Annakuteera, 3rd Stage, Banashankar...</td>\n",
       "      <td>Addhuri Udupi Bhojana</td>\n",
       "      <td>No</td>\n",
       "      <td>No</td>\n",
       "      <td>3.7/5</td>\n",
       "      <td>88</td>\n",
       "      <td>+91 9620009302</td>\n",
       "      <td>Banashankari</td>\n",
       "      <td>Quick Bites</td>\n",
       "      <td>Masala Dosa</td>\n",
       "      <td>South Indian, North Indian</td>\n",
       "      <td>300</td>\n",
       "      <td>[('Rated 4.0', \"RATED\\n  Great food and proper...</td>\n",
       "      <td>[]</td>\n",
       "      <td>Buffet</td>\n",
       "      <td>Banashankari</td>\n",
       "    </tr>\n",
       "    <tr>\n",
       "      <th>4</th>\n",
       "      <td>https://www.zomato.com/bangalore/grand-village...</td>\n",
       "      <td>10, 3rd Floor, Lakshmi Associates, Gandhi Baza...</td>\n",
       "      <td>Grand Village</td>\n",
       "      <td>No</td>\n",
       "      <td>No</td>\n",
       "      <td>3.8/5</td>\n",
       "      <td>166</td>\n",
       "      <td>+91 8026612447\\r\\n+91 9901210005</td>\n",
       "      <td>Basavanagudi</td>\n",
       "      <td>Casual Dining</td>\n",
       "      <td>Panipuri, Gol Gappe</td>\n",
       "      <td>North Indian, Rajasthani</td>\n",
       "      <td>600</td>\n",
       "      <td>[('Rated 4.0', 'RATED\\n  Very good restaurant ...</td>\n",
       "      <td>[]</td>\n",
       "      <td>Buffet</td>\n",
       "      <td>Banashankari</td>\n",
       "    </tr>\n",
       "  </tbody>\n",
       "</table>\n",
       "</div>"
      ],
      "text/plain": [
       "                                                 url  \\\n",
       "0  https://www.zomato.com/bangalore/jalsa-banasha...   \n",
       "1  https://www.zomato.com/bangalore/spice-elephan...   \n",
       "2  https://www.zomato.com/SanchurroBangalore?cont...   \n",
       "3  https://www.zomato.com/bangalore/addhuri-udupi...   \n",
       "4  https://www.zomato.com/bangalore/grand-village...   \n",
       "\n",
       "                                             address                   name  \\\n",
       "0  942, 21st Main Road, 2nd Stage, Banashankari, ...                  Jalsa   \n",
       "1  2nd Floor, 80 Feet Road, Near Big Bazaar, 6th ...         Spice Elephant   \n",
       "2  1112, Next to KIMS Medical College, 17th Cross...        San Churro Cafe   \n",
       "3  1st Floor, Annakuteera, 3rd Stage, Banashankar...  Addhuri Udupi Bhojana   \n",
       "4  10, 3rd Floor, Lakshmi Associates, Gandhi Baza...          Grand Village   \n",
       "\n",
       "  online_order book_table   rate  votes                             phone  \\\n",
       "0          Yes        Yes  4.1/5    775    080 42297555\\r\\n+91 9743772233   \n",
       "1          Yes         No  4.1/5    787                      080 41714161   \n",
       "2          Yes         No  3.8/5    918                    +91 9663487993   \n",
       "3           No         No  3.7/5     88                    +91 9620009302   \n",
       "4           No         No  3.8/5    166  +91 8026612447\\r\\n+91 9901210005   \n",
       "\n",
       "       location            rest_type  \\\n",
       "0  Banashankari        Casual Dining   \n",
       "1  Banashankari        Casual Dining   \n",
       "2  Banashankari  Cafe, Casual Dining   \n",
       "3  Banashankari          Quick Bites   \n",
       "4  Basavanagudi        Casual Dining   \n",
       "\n",
       "                                          dish_liked  \\\n",
       "0  Pasta, Lunch Buffet, Masala Papad, Paneer Laja...   \n",
       "1  Momos, Lunch Buffet, Chocolate Nirvana, Thai G...   \n",
       "2  Churros, Cannelloni, Minestrone Soup, Hot Choc...   \n",
       "3                                        Masala Dosa   \n",
       "4                                Panipuri, Gol Gappe   \n",
       "\n",
       "                         cuisines approx_cost(for two people)  \\\n",
       "0  North Indian, Mughlai, Chinese                         800   \n",
       "1     Chinese, North Indian, Thai                         800   \n",
       "2          Cafe, Mexican, Italian                         800   \n",
       "3      South Indian, North Indian                         300   \n",
       "4        North Indian, Rajasthani                         600   \n",
       "\n",
       "                                        reviews_list menu_item  \\\n",
       "0  [('Rated 4.0', 'RATED\\n  A beautiful place to ...        []   \n",
       "1  [('Rated 4.0', 'RATED\\n  Had been here for din...        []   \n",
       "2  [('Rated 3.0', \"RATED\\n  Ambience is not that ...        []   \n",
       "3  [('Rated 4.0', \"RATED\\n  Great food and proper...        []   \n",
       "4  [('Rated 4.0', 'RATED\\n  Very good restaurant ...        []   \n",
       "\n",
       "  listed_in(type) listed_in(city)  \n",
       "0          Buffet    Banashankari  \n",
       "1          Buffet    Banashankari  \n",
       "2          Buffet    Banashankari  \n",
       "3          Buffet    Banashankari  \n",
       "4          Buffet    Banashankari  "
      ]
     },
     "execution_count": 37,
     "metadata": {},
     "output_type": "execute_result"
    }
   ],
   "source": [
    "data.head()"
   ]
  },
  {
   "cell_type": "code",
   "execution_count": 38,
   "id": "91597242",
   "metadata": {},
   "outputs": [
    {
     "data": {
      "text/plain": [
       "(51717, 17)"
      ]
     },
     "execution_count": 38,
     "metadata": {},
     "output_type": "execute_result"
    }
   ],
   "source": [
    "data.shape"
   ]
  },
  {
   "cell_type": "code",
   "execution_count": 39,
   "id": "ba77f3c4",
   "metadata": {},
   "outputs": [
    {
     "data": {
      "text/plain": [
       "['url',\n",
       " 'address',\n",
       " 'name',\n",
       " 'online_order',\n",
       " 'book_table',\n",
       " 'rate',\n",
       " 'votes',\n",
       " 'phone',\n",
       " 'location',\n",
       " 'rest_type',\n",
       " 'dish_liked',\n",
       " 'cuisines',\n",
       " 'approx_cost(for two people)',\n",
       " 'reviews_list',\n",
       " 'menu_item',\n",
       " 'listed_in(type)',\n",
       " 'listed_in(city)']"
      ]
     },
     "execution_count": 39,
     "metadata": {},
     "output_type": "execute_result"
    }
   ],
   "source": [
    "data.columns.to_list()"
   ]
  },
  {
   "cell_type": "markdown",
   "id": "b090db27",
   "metadata": {},
   "source": [
    "## Column Description\n",
    "#### 1) url: contains the url of the restaurant in the zomato website\n",
    "#### 2) address: contains the address of the restaurant in Bengaluru\n",
    "#### 3) name: contains the name of the restaurant\n",
    "#### 4) online_order: whether online ordering is available in the restaurant or not\n",
    "#### 5) book_table: table book option available or not\n",
    "#### 6) rate: contains the overall rating of the restaurant out of 5\n",
    "#### 7) votes: contains total number of rating for the restaurant as of the above mentioned date\n",
    "#### 8) phone: contains the phone number of the restaurant\n",
    "#### 9) location: contains the neighborhood in which the restaurant is located\n",
    "#### 10) rest_type: restaurant type\n",
    "#### 11) dish_liked: dishes people liked in the restaurant\n",
    "#### 12) cuisines: food styles, separated by comma\n",
    "#### 13) approx_cost(for two people): contains the approximate cost for meal for two people\n",
    "#### 14) reviews_list: list of tuples containing reviews for the restaurant, each tuple\n",
    "#### 15) menu_item: contains list of menus available in the restaurant\n",
    "#### 16) listed_in(type): type of meal\n",
    "#### 17) listed_in(city): contains the neighborhood in which the restaurant is listed"
   ]
  },
  {
   "cell_type": "markdown",
   "id": "33935a3d",
   "metadata": {},
   "source": [
    "## DATA CLEANING\n",
    "\n",
    "#### Here we will clean our data for wrong dtypes,we will handle null values , remove irrelevant columns, outliers etc.\n",
    "\n"
   ]
  },
  {
   "cell_type": "markdown",
   "id": "c9432926",
   "metadata": {},
   "source": [
    "### Let's rename the complex named columns for easy understanding\n",
    "\n"
   ]
  },
  {
   "cell_type": "code",
   "execution_count": 40,
   "id": "34a318ca",
   "metadata": {},
   "outputs": [],
   "source": [
    "data.rename(columns = {'approx_cost(for two people)' : 'approx_cost', 'listed_in(city)' : 'area'}, inplace = True)"
   ]
  },
  {
   "cell_type": "markdown",
   "id": "86cb66b4",
   "metadata": {},
   "source": [
    "### Let's drop the irrelevant columns"
   ]
  },
  {
   "cell_type": "code",
   "execution_count": 41,
   "id": "d2acfde8",
   "metadata": {},
   "outputs": [],
   "source": [
    "data.drop(['url', 'address','menu_item', 'reviews_list', 'dish_liked', 'phone', 'listed_in(type)'], axis = 1, inplace=True)"
   ]
  },
  {
   "cell_type": "code",
   "execution_count": 42,
   "id": "9702985d",
   "metadata": {},
   "outputs": [],
   "source": [
    "df = data"
   ]
  },
  {
   "cell_type": "code",
   "execution_count": 43,
   "id": "aae30408",
   "metadata": {},
   "outputs": [
    {
     "data": {
      "text/html": [
       "<div>\n",
       "<style scoped>\n",
       "    .dataframe tbody tr th:only-of-type {\n",
       "        vertical-align: middle;\n",
       "    }\n",
       "\n",
       "    .dataframe tbody tr th {\n",
       "        vertical-align: top;\n",
       "    }\n",
       "\n",
       "    .dataframe thead th {\n",
       "        text-align: right;\n",
       "    }\n",
       "</style>\n",
       "<table border=\"1\" class=\"dataframe\">\n",
       "  <thead>\n",
       "    <tr style=\"text-align: right;\">\n",
       "      <th></th>\n",
       "      <th>name</th>\n",
       "      <th>online_order</th>\n",
       "      <th>book_table</th>\n",
       "      <th>rate</th>\n",
       "      <th>votes</th>\n",
       "      <th>location</th>\n",
       "      <th>rest_type</th>\n",
       "      <th>cuisines</th>\n",
       "      <th>approx_cost</th>\n",
       "      <th>area</th>\n",
       "    </tr>\n",
       "  </thead>\n",
       "  <tbody>\n",
       "    <tr>\n",
       "      <th>0</th>\n",
       "      <td>Jalsa</td>\n",
       "      <td>Yes</td>\n",
       "      <td>Yes</td>\n",
       "      <td>4.1/5</td>\n",
       "      <td>775</td>\n",
       "      <td>Banashankari</td>\n",
       "      <td>Casual Dining</td>\n",
       "      <td>North Indian, Mughlai, Chinese</td>\n",
       "      <td>800</td>\n",
       "      <td>Banashankari</td>\n",
       "    </tr>\n",
       "    <tr>\n",
       "      <th>1</th>\n",
       "      <td>Spice Elephant</td>\n",
       "      <td>Yes</td>\n",
       "      <td>No</td>\n",
       "      <td>4.1/5</td>\n",
       "      <td>787</td>\n",
       "      <td>Banashankari</td>\n",
       "      <td>Casual Dining</td>\n",
       "      <td>Chinese, North Indian, Thai</td>\n",
       "      <td>800</td>\n",
       "      <td>Banashankari</td>\n",
       "    </tr>\n",
       "    <tr>\n",
       "      <th>2</th>\n",
       "      <td>San Churro Cafe</td>\n",
       "      <td>Yes</td>\n",
       "      <td>No</td>\n",
       "      <td>3.8/5</td>\n",
       "      <td>918</td>\n",
       "      <td>Banashankari</td>\n",
       "      <td>Cafe, Casual Dining</td>\n",
       "      <td>Cafe, Mexican, Italian</td>\n",
       "      <td>800</td>\n",
       "      <td>Banashankari</td>\n",
       "    </tr>\n",
       "    <tr>\n",
       "      <th>3</th>\n",
       "      <td>Addhuri Udupi Bhojana</td>\n",
       "      <td>No</td>\n",
       "      <td>No</td>\n",
       "      <td>3.7/5</td>\n",
       "      <td>88</td>\n",
       "      <td>Banashankari</td>\n",
       "      <td>Quick Bites</td>\n",
       "      <td>South Indian, North Indian</td>\n",
       "      <td>300</td>\n",
       "      <td>Banashankari</td>\n",
       "    </tr>\n",
       "    <tr>\n",
       "      <th>4</th>\n",
       "      <td>Grand Village</td>\n",
       "      <td>No</td>\n",
       "      <td>No</td>\n",
       "      <td>3.8/5</td>\n",
       "      <td>166</td>\n",
       "      <td>Basavanagudi</td>\n",
       "      <td>Casual Dining</td>\n",
       "      <td>North Indian, Rajasthani</td>\n",
       "      <td>600</td>\n",
       "      <td>Banashankari</td>\n",
       "    </tr>\n",
       "  </tbody>\n",
       "</table>\n",
       "</div>"
      ],
      "text/plain": [
       "                    name online_order book_table   rate  votes      location  \\\n",
       "0                  Jalsa          Yes        Yes  4.1/5    775  Banashankari   \n",
       "1         Spice Elephant          Yes         No  4.1/5    787  Banashankari   \n",
       "2        San Churro Cafe          Yes         No  3.8/5    918  Banashankari   \n",
       "3  Addhuri Udupi Bhojana           No         No  3.7/5     88  Banashankari   \n",
       "4          Grand Village           No         No  3.8/5    166  Basavanagudi   \n",
       "\n",
       "             rest_type                        cuisines approx_cost  \\\n",
       "0        Casual Dining  North Indian, Mughlai, Chinese         800   \n",
       "1        Casual Dining     Chinese, North Indian, Thai         800   \n",
       "2  Cafe, Casual Dining          Cafe, Mexican, Italian         800   \n",
       "3          Quick Bites      South Indian, North Indian         300   \n",
       "4        Casual Dining        North Indian, Rajasthani         600   \n",
       "\n",
       "           area  \n",
       "0  Banashankari  \n",
       "1  Banashankari  \n",
       "2  Banashankari  \n",
       "3  Banashankari  \n",
       "4  Banashankari  "
      ]
     },
     "execution_count": 43,
     "metadata": {},
     "output_type": "execute_result"
    }
   ],
   "source": [
    "df.head()"
   ]
  },
  {
   "cell_type": "markdown",
   "id": "c0530180",
   "metadata": {},
   "source": [
    "## Let's check for Datatypes"
   ]
  },
  {
   "cell_type": "code",
   "execution_count": 44,
   "id": "6ddd4672",
   "metadata": {},
   "outputs": [
    {
     "name": "stdout",
     "output_type": "stream",
     "text": [
      "<class 'pandas.core.frame.DataFrame'>\n",
      "RangeIndex: 51717 entries, 0 to 51716\n",
      "Data columns (total 10 columns):\n",
      " #   Column        Non-Null Count  Dtype \n",
      "---  ------        --------------  ----- \n",
      " 0   name          51717 non-null  object\n",
      " 1   online_order  51717 non-null  object\n",
      " 2   book_table    51717 non-null  object\n",
      " 3   rate          43942 non-null  object\n",
      " 4   votes         51717 non-null  int64 \n",
      " 5   location      51696 non-null  object\n",
      " 6   rest_type     51490 non-null  object\n",
      " 7   cuisines      51672 non-null  object\n",
      " 8   approx_cost   51371 non-null  object\n",
      " 9   area          51717 non-null  object\n",
      "dtypes: int64(1), object(9)\n",
      "memory usage: 3.9+ MB\n"
     ]
    }
   ],
   "source": [
    "df.info()"
   ]
  },
  {
   "cell_type": "markdown",
   "id": "3c62b6c7",
   "metadata": {},
   "source": [
    "###### After above execution we found that  the columns \"rate\", \"location\",\" rest_type\", \"approx_cost\",\" cuisines\"  either have null values and  Wrong dtypes or both."
   ]
  },
  {
   "cell_type": "markdown",
   "id": "50dbdcee",
   "metadata": {},
   "source": [
    "## Let's check for \"rate \" Column"
   ]
  },
  {
   "cell_type": "code",
   "execution_count": 45,
   "id": "d65c2544",
   "metadata": {},
   "outputs": [
    {
     "data": {
      "text/plain": [
       "array(['4.1/5', '3.8/5', '3.7/5', '3.6/5', '4.6/5', '4.0/5', '4.2/5',\n",
       "       '3.9/5', '3.1/5', '3.0/5', '3.2/5', '3.3/5', '2.8/5', '4.4/5',\n",
       "       '4.3/5', 'NEW', '2.9/5', '3.5/5', nan, '2.6/5', '3.8 /5', '3.4/5',\n",
       "       '4.5/5', '2.5/5', '2.7/5', '4.7/5', '2.4/5', '2.2/5', '2.3/5',\n",
       "       '3.4 /5', '-', '3.6 /5', '4.8/5', '3.9 /5', '4.2 /5', '4.0 /5',\n",
       "       '4.1 /5', '3.7 /5', '3.1 /5', '2.9 /5', '3.3 /5', '2.8 /5',\n",
       "       '3.5 /5', '2.7 /5', '2.5 /5', '3.2 /5', '2.6 /5', '4.5 /5',\n",
       "       '4.3 /5', '4.4 /5', '4.9/5', '2.1/5', '2.0/5', '1.8/5', '4.6 /5',\n",
       "       '4.9 /5', '3.0 /5', '4.8 /5', '2.3 /5', '4.7 /5', '2.4 /5',\n",
       "       '2.1 /5', '2.2 /5', '2.0 /5', '1.8 /5'], dtype=object)"
      ]
     },
     "execution_count": 45,
     "metadata": {},
     "output_type": "execute_result"
    }
   ],
   "source": [
    "#unique values\n",
    "df['rate'].unique()"
   ]
  },
  {
   "cell_type": "markdown",
   "id": "635d7ea7",
   "metadata": {},
   "source": [
    "###### Above execution shows there are many null and garbage values"
   ]
  },
  {
   "cell_type": "markdown",
   "id": "8a153fa9",
   "metadata": {},
   "source": [
    "### Let's replace all the null and garbage values with numbers"
   ]
  },
  {
   "cell_type": "code",
   "execution_count": 46,
   "id": "67a944cc",
   "metadata": {},
   "outputs": [],
   "source": [
    "df['rate'] =  df['rate'].str.replace(\"/5\", \"\")\n",
    "df['rate'] =  df['rate'].str.replace(\"nan\", \"NaN\")\n",
    "df['rate'] =  df['rate'].str.replace(\"NEW\", \"NaN\")\n",
    "df['rate'] =  df['rate'].str.replace(\"-\", \"NaN\")\n",
    "df['rate'] =  df['rate'].str.replace(\" /5\", \"\")\n",
    "df['rate'] =  df['rate'].fillna(np.nan)\n",
    "df['rate'] =  df['rate'].str.replace(\" \", \"\")"
   ]
  },
  {
   "cell_type": "code",
   "execution_count": 47,
   "id": "4c4a077a",
   "metadata": {},
   "outputs": [
    {
     "data": {
      "text/plain": [
       "array(['4.1', '3.8', '3.7', '3.6', '4.6', '4.0', '4.2', '3.9', '3.1',\n",
       "       '3.0', '3.2', '3.3', '2.8', '4.4', '4.3', 'NaN', '2.9', '3.5', nan,\n",
       "       '2.6', '3.4', '4.5', '2.5', '2.7', '4.7', '2.4', '2.2', '2.3',\n",
       "       '4.8', '4.9', '2.1', '2.0', '1.8'], dtype=object)"
      ]
     },
     "execution_count": 47,
     "metadata": {},
     "output_type": "execute_result"
    }
   ],
   "source": [
    "df[\"rate\"].unique()"
   ]
  },
  {
   "cell_type": "markdown",
   "id": "65328295",
   "metadata": {},
   "source": [
    "## Let's check for the \"approx_cost\" column"
   ]
  },
  {
   "cell_type": "code",
   "execution_count": 48,
   "id": "df38d7f5",
   "metadata": {},
   "outputs": [
    {
     "data": {
      "text/plain": [
       "array(['800', '300', '600', '700', '550', '500', '450', '650', '400',\n",
       "       '900', '200', '750', '150', '850', '100', '1,200', '350', '250',\n",
       "       '950', '1,000', '1,500', '1,300', '199', '80', '1,100', '160',\n",
       "       '1,600', '230', '130', '50', '190', '1,700', nan, '1,400', '180',\n",
       "       '1,350', '2,200', '2,000', '1,800', '1,900', '330', '2,500',\n",
       "       '2,100', '3,000', '2,800', '3,400', '40', '1,250', '3,500',\n",
       "       '4,000', '2,400', '2,600', '120', '1,450', '469', '70', '3,200',\n",
       "       '60', '560', '240', '360', '6,000', '1,050', '2,300', '4,100',\n",
       "       '5,000', '3,700', '1,650', '2,700', '4,500', '140'], dtype=object)"
      ]
     },
     "execution_count": 48,
     "metadata": {},
     "output_type": "execute_result"
    }
   ],
   "source": [
    "#unique Values\n",
    "df[\"approx_cost\"].unique()"
   ]
  },
  {
   "cell_type": "code",
   "execution_count": 49,
   "id": "8297c85b",
   "metadata": {},
   "outputs": [],
   "source": [
    "df['approx_cost'] = df['approx_cost'].str.replace(\"nan\", \"NaN\")\n",
    "df['approx_cost'] = df['approx_cost'].fillna('NaN')\n",
    "df['approx_cost'] = df['approx_cost'].str.replace(\",\",\"\" )"
   ]
  },
  {
   "cell_type": "code",
   "execution_count": 50,
   "id": "737d9af7",
   "metadata": {},
   "outputs": [
    {
     "data": {
      "text/plain": [
       "array(['800', '300', '600', '700', '550', '500', '450', '650', '400',\n",
       "       '900', '200', '750', '150', '850', '100', '1200', '350', '250',\n",
       "       '950', '1000', '1500', '1300', '199', '80', '1100', '160', '1600',\n",
       "       '230', '130', '50', '190', '1700', 'NaN', '1400', '180', '1350',\n",
       "       '2200', '2000', '1800', '1900', '330', '2500', '2100', '3000',\n",
       "       '2800', '3400', '40', '1250', '3500', '4000', '2400', '2600',\n",
       "       '120', '1450', '469', '70', '3200', '60', '560', '240', '360',\n",
       "       '6000', '1050', '2300', '4100', '5000', '3700', '1650', '2700',\n",
       "       '4500', '140'], dtype=object)"
      ]
     },
     "execution_count": 50,
     "metadata": {},
     "output_type": "execute_result"
    }
   ],
   "source": [
    "df[\"approx_cost\"].unique()"
   ]
  },
  {
   "cell_type": "markdown",
   "id": "2428d1f7",
   "metadata": {},
   "source": [
    "#### Now Let's change the data type Object to Float"
   ]
  },
  {
   "cell_type": "code",
   "execution_count": 51,
   "id": "19d9d337",
   "metadata": {},
   "outputs": [],
   "source": [
    "df['approx_cost'] = df['approx_cost'].astype(float)\n",
    "df['rate'] = df['rate'].astype(float)"
   ]
  },
  {
   "cell_type": "code",
   "execution_count": 52,
   "id": "8d0e34cf",
   "metadata": {},
   "outputs": [
    {
     "name": "stdout",
     "output_type": "stream",
     "text": [
      "<class 'pandas.core.frame.DataFrame'>\n",
      "RangeIndex: 51717 entries, 0 to 51716\n",
      "Data columns (total 10 columns):\n",
      " #   Column        Non-Null Count  Dtype  \n",
      "---  ------        --------------  -----  \n",
      " 0   name          51717 non-null  object \n",
      " 1   online_order  51717 non-null  object \n",
      " 2   book_table    51717 non-null  object \n",
      " 3   rate          41665 non-null  float64\n",
      " 4   votes         51717 non-null  int64  \n",
      " 5   location      51696 non-null  object \n",
      " 6   rest_type     51490 non-null  object \n",
      " 7   cuisines      51672 non-null  object \n",
      " 8   approx_cost   51371 non-null  float64\n",
      " 9   area          51717 non-null  object \n",
      "dtypes: float64(2), int64(1), object(7)\n",
      "memory usage: 3.9+ MB\n"
     ]
    }
   ],
   "source": [
    "df.info()"
   ]
  },
  {
   "cell_type": "markdown",
   "id": "91b19db1",
   "metadata": {},
   "source": [
    "## Let's check the data description by Describe Function"
   ]
  },
  {
   "cell_type": "markdown",
   "id": "6556faa6",
   "metadata": {},
   "source": [
    "###### The describe() method returns description of the data in the DataFrame. If the DataFrame contains numerical data, the description contains these information for each column: count - The number of not-empty values. mean - The average (mean) value. std - The standard deviation.we do statistical analysis on the basis of 5 points summary."
   ]
  },
  {
   "cell_type": "code",
   "execution_count": 53,
   "id": "b3142cae",
   "metadata": {},
   "outputs": [
    {
     "data": {
      "text/html": [
       "<div>\n",
       "<style scoped>\n",
       "    .dataframe tbody tr th:only-of-type {\n",
       "        vertical-align: middle;\n",
       "    }\n",
       "\n",
       "    .dataframe tbody tr th {\n",
       "        vertical-align: top;\n",
       "    }\n",
       "\n",
       "    .dataframe thead th {\n",
       "        text-align: right;\n",
       "    }\n",
       "</style>\n",
       "<table border=\"1\" class=\"dataframe\">\n",
       "  <thead>\n",
       "    <tr style=\"text-align: right;\">\n",
       "      <th></th>\n",
       "      <th>rate</th>\n",
       "      <th>votes</th>\n",
       "      <th>approx_cost</th>\n",
       "    </tr>\n",
       "  </thead>\n",
       "  <tbody>\n",
       "    <tr>\n",
       "      <th>count</th>\n",
       "      <td>41665.000000</td>\n",
       "      <td>51717.000000</td>\n",
       "      <td>51371.000000</td>\n",
       "    </tr>\n",
       "    <tr>\n",
       "      <th>mean</th>\n",
       "      <td>3.700449</td>\n",
       "      <td>283.697527</td>\n",
       "      <td>555.431566</td>\n",
       "    </tr>\n",
       "    <tr>\n",
       "      <th>std</th>\n",
       "      <td>0.440513</td>\n",
       "      <td>803.838853</td>\n",
       "      <td>438.850728</td>\n",
       "    </tr>\n",
       "    <tr>\n",
       "      <th>min</th>\n",
       "      <td>1.800000</td>\n",
       "      <td>0.000000</td>\n",
       "      <td>40.000000</td>\n",
       "    </tr>\n",
       "    <tr>\n",
       "      <th>25%</th>\n",
       "      <td>3.400000</td>\n",
       "      <td>7.000000</td>\n",
       "      <td>300.000000</td>\n",
       "    </tr>\n",
       "    <tr>\n",
       "      <th>50%</th>\n",
       "      <td>3.700000</td>\n",
       "      <td>41.000000</td>\n",
       "      <td>400.000000</td>\n",
       "    </tr>\n",
       "    <tr>\n",
       "      <th>75%</th>\n",
       "      <td>4.000000</td>\n",
       "      <td>198.000000</td>\n",
       "      <td>650.000000</td>\n",
       "    </tr>\n",
       "    <tr>\n",
       "      <th>max</th>\n",
       "      <td>4.900000</td>\n",
       "      <td>16832.000000</td>\n",
       "      <td>6000.000000</td>\n",
       "    </tr>\n",
       "  </tbody>\n",
       "</table>\n",
       "</div>"
      ],
      "text/plain": [
       "               rate         votes   approx_cost\n",
       "count  41665.000000  51717.000000  51371.000000\n",
       "mean       3.700449    283.697527    555.431566\n",
       "std        0.440513    803.838853    438.850728\n",
       "min        1.800000      0.000000     40.000000\n",
       "25%        3.400000      7.000000    300.000000\n",
       "50%        3.700000     41.000000    400.000000\n",
       "75%        4.000000    198.000000    650.000000\n",
       "max        4.900000  16832.000000   6000.000000"
      ]
     },
     "execution_count": 53,
     "metadata": {},
     "output_type": "execute_result"
    }
   ],
   "source": [
    "df.describe()"
   ]
  },
  {
   "cell_type": "markdown",
   "id": "38373228",
   "metadata": {},
   "source": [
    "## Let's check for Null Values"
   ]
  },
  {
   "cell_type": "code",
   "execution_count": 54,
   "id": "97a7305b",
   "metadata": {},
   "outputs": [
    {
     "data": {
      "text/plain": [
       "name                0\n",
       "online_order        0\n",
       "book_table          0\n",
       "rate            10052\n",
       "votes               0\n",
       "location           21\n",
       "rest_type         227\n",
       "cuisines           45\n",
       "approx_cost       346\n",
       "area                0\n",
       "dtype: int64"
      ]
     },
     "execution_count": 54,
     "metadata": {},
     "output_type": "execute_result"
    }
   ],
   "source": [
    "df.isnull().sum()"
   ]
  },
  {
   "cell_type": "markdown",
   "id": "7e45f7d4",
   "metadata": {},
   "source": [
    "##### lets check for the percentage of null values"
   ]
  },
  {
   "cell_type": "code",
   "execution_count": 55,
   "id": "1c8b8baa",
   "metadata": {},
   "outputs": [
    {
     "data": {
      "text/plain": [
       "name             0.000000\n",
       "online_order     0.000000\n",
       "book_table       0.000000\n",
       "rate            19.436549\n",
       "votes            0.000000\n",
       "location         0.040606\n",
       "rest_type        0.438927\n",
       "cuisines         0.087012\n",
       "approx_cost      0.669026\n",
       "area             0.000000\n",
       "dtype: float64"
      ]
     },
     "execution_count": 55,
     "metadata": {},
     "output_type": "execute_result"
    }
   ],
   "source": [
    "(df.isnull().sum()/df.shape[0])*100"
   ]
  },
  {
   "cell_type": "markdown",
   "id": "e54a5b74",
   "metadata": {},
   "source": [
    "### From the above execution we found columns \"location\", \"rest_type\", \"cuisines\", \"approx_cost\" have less number of null values as compared to \"rate\" column. Let's drop the null values from them"
   ]
  },
  {
   "cell_type": "code",
   "execution_count": 56,
   "id": "c9d4344d",
   "metadata": {},
   "outputs": [],
   "source": [
    "df = df[df[\"location\"].notna()]\n",
    "df = df[df[\"rest_type\"].notna()]\n",
    "df = df[df[\"cuisines\"].notna()]\n",
    "df = df[df[\"approx_cost\"].notna()]"
   ]
  },
  {
   "cell_type": "code",
   "execution_count": 57,
   "id": "0dc336ec",
   "metadata": {},
   "outputs": [
    {
     "data": {
      "text/plain": [
       "name               0\n",
       "online_order       0\n",
       "book_table         0\n",
       "rate            9885\n",
       "votes              0\n",
       "location           0\n",
       "rest_type          0\n",
       "cuisines           0\n",
       "approx_cost        0\n",
       "area               0\n",
       "dtype: int64"
      ]
     },
     "execution_count": 57,
     "metadata": {},
     "output_type": "execute_result"
    }
   ],
   "source": [
    "df.isna().sum()"
   ]
  },
  {
   "cell_type": "markdown",
   "id": "01653b1c",
   "metadata": {},
   "source": [
    "### Let's Handle the null values in the \"rate\"  coulmns"
   ]
  },
  {
   "cell_type": "code",
   "execution_count": 58,
   "id": "677b7647",
   "metadata": {},
   "outputs": [
    {
     "data": {
      "text/plain": [
       "count    41263.000000\n",
       "mean         3.702011\n",
       "std          0.439985\n",
       "min          1.800000\n",
       "25%          3.400000\n",
       "50%          3.700000\n",
       "75%          4.000000\n",
       "max          4.900000\n",
       "Name: rate, dtype: float64"
      ]
     },
     "execution_count": 58,
     "metadata": {},
     "output_type": "execute_result"
    }
   ],
   "source": [
    "df[\"rate\"].describe()"
   ]
  },
  {
   "cell_type": "markdown",
   "id": "9bc72e8e",
   "metadata": {},
   "source": [
    "#### Let's check for the outliers by statistical method"
   ]
  },
  {
   "cell_type": "code",
   "execution_count": 59,
   "id": "141b0037",
   "metadata": {},
   "outputs": [
    {
     "name": "stdout",
     "output_type": "stream",
     "text": [
      "Number of Rows having Outliers :  183\n"
     ]
    }
   ],
   "source": [
    "q1 = df['rate'].quantile(0.25)\n",
    "q3 = df['rate'].quantile(0.75)\n",
    "\n",
    "xyz = q3 - q1\n",
    "\n",
    "lower_range = q1 - (1.5 * xyz)\n",
    "upper_range = q3 + (1.5 * xyz)\n",
    "\n",
    "outliers = len(df[(df['rate'] < lower_range) | (df['rate'] > upper_range)])\n",
    "print(\"Number of Rows having Outliers : \", outliers)"
   ]
  },
  {
   "cell_type": "markdown",
   "id": "ef4d8cab",
   "metadata": {},
   "source": [
    "###### From the above execution we found that we have 183 ouliers in the \"rate\" column but we are all know rating is always in the range from 1 to 5, so we will impute with median"
   ]
  },
  {
   "cell_type": "code",
   "execution_count": 60,
   "id": "fe04e099",
   "metadata": {},
   "outputs": [
    {
     "data": {
      "text/plain": [
       "name            0\n",
       "online_order    0\n",
       "book_table      0\n",
       "rate            0\n",
       "votes           0\n",
       "location        0\n",
       "rest_type       0\n",
       "cuisines        0\n",
       "approx_cost     0\n",
       "area            0\n",
       "dtype: int64"
      ]
     },
     "execution_count": 60,
     "metadata": {},
     "output_type": "execute_result"
    }
   ],
   "source": [
    "df['rate'] = df['rate'].fillna(df['rate'].median())\n",
    "\n",
    "df.isna().sum()"
   ]
  },
  {
   "cell_type": "markdown",
   "id": "93aae08a",
   "metadata": {},
   "source": [
    "## Let's check for the numerical Columns"
   ]
  },
  {
   "cell_type": "code",
   "execution_count": 61,
   "id": "2b609533",
   "metadata": {},
   "outputs": [
    {
     "name": "stdout",
     "output_type": "stream",
     "text": [
      "There are 3 numerical features and their names are ['rate', 'votes', 'approx_cost']\n"
     ]
    }
   ],
   "source": [
    "Numerical_features=[feature for feature in df.columns if df[feature].dtypes !='O']\n",
    "print(\"There are {} numerical features and their names are {}\".format(len(Numerical_features), Numerical_features)) "
   ]
  },
  {
   "cell_type": "markdown",
   "id": "90383eb9",
   "metadata": {},
   "source": [
    "### Let's check for the distrubution of the numerical features "
   ]
  },
  {
   "cell_type": "code",
   "execution_count": 62,
   "id": "693a5881",
   "metadata": {},
   "outputs": [
    {
     "data": {
      "image/png": "[encoded data removed]",
      "text/plain": [
       "<Figure size 2000x15000 with 3 Axes>"
      ]
     },
     "metadata": {},
     "output_type": "display_data"
    }
   ],
   "source": [
    "plt.figure(figsize=(20,150))\n",
    "for i in enumerate(Numerical_features):\n",
    "    plt.subplot(20, 2, i[0]+1)\n",
    "    sns.set(rc={'figure.figsize':(5,5)})\n",
    "    sns.histplot(data=df, x=i[1], bins=30)\n",
    "    plt.xticks(rotation=45)"
   ]
  },
  {
   "cell_type": "markdown",
   "id": "f049fa6c",
   "metadata": {},
   "source": [
    "##### Reset the index"
   ]
  },
  {
   "cell_type": "code",
   "execution_count": 63,
   "id": "ceb12eb6",
   "metadata": {},
   "outputs": [],
   "source": [
    "\n",
    "df.reset_index(inplace=True)\n",
    "df.drop(['index'], axis=1, inplace=True)"
   ]
  },
  {
   "cell_type": "markdown",
   "id": "f79fca3e",
   "metadata": {},
   "source": [
    "# Data Visualization"
   ]
  },
  {
   "cell_type": "markdown",
   "id": "017ff4cb",
   "metadata": {},
   "source": [
    "### Let's check for the Most famous restaurants chains in Bangaluru"
   ]
  },
  {
   "cell_type": "code",
   "execution_count": 64,
   "id": "436fd625",
   "metadata": {},
   "outputs": [
    {
     "data": {
      "image/png": "[encoded data removed]",
      "text/plain": [
       "<Figure size 1700x1000 with 1 Axes>"
      ]
     },
     "metadata": {},
     "output_type": "display_data"
    }
   ],
   "source": [
    "plt.figure(figsize=(17,10))\n",
    "chains=df['name'].value_counts()[:15]\n",
    "sns.barplot(x=chains,y=chains.index,palette= \"deep\")\n",
    "plt.title(\"Most famous restaurants chains in Bangaluru\")\n",
    "plt.xlabel(\"Number of outlets\")\n",
    "plt.show()"
   ]
  },
  {
   "cell_type": "markdown",
   "id": "03ff7d7e",
   "metadata": {},
   "source": [
    "### Let's check for the restaurants who have got the highest orders"
   ]
  },
  {
   "cell_type": "code",
   "execution_count": 65,
   "id": "c633e7d1",
   "metadata": {},
   "outputs": [
    {
     "data": {
      "image/png": "[encoded data removed]",
      "text/plain": [
       "<Figure size 1200x500 with 1 Axes>"
      ]
     },
     "metadata": {},
     "output_type": "display_data"
    }
   ],
   "source": [
    "plt.figure(figsize = (12,5))\n",
    "data = df['name'].value_counts()[:20]\n",
    "data.plot(kind = 'bar')\n",
    "plt.xlabel('Name of Restaurants', size = 14)\n",
    "plt.ylabel('No. of Orders', size = 14)\n",
    "plt.title(\"Restaurants with Maximum No. of Orders\", fontsize=15)\n",
    "plt.show()"
   ]
  },
  {
   "cell_type": "markdown",
   "id": "14592f55",
   "metadata": {},
   "source": [
    "### Let's check how many restaurants have online ordering facilities "
   ]
  },
  {
   "cell_type": "code",
   "execution_count": 66,
   "id": "54f2380c",
   "metadata": {},
   "outputs": [
    {
     "ename": "ValueError",
     "evalue": "could not convert string to float: 'Yes'",
     "output_type": "error",
     "traceback": [
      "\u001b[1;31m---------------------------------------------------------------------------\u001b[0m",
      "\u001b[1;31mValueError\u001b[0m                                Traceback (most recent call last)",
      "Cell \u001b[1;32mIn[66], line 1\u001b[0m\n\u001b[1;32m----> 1\u001b[0m sns\u001b[38;5;241m.\u001b[39mcountplot(df[\u001b[38;5;124m'\u001b[39m\u001b[38;5;124monline_order\u001b[39m\u001b[38;5;124m'\u001b[39m])\n\u001b[0;32m      2\u001b[0m fig \u001b[38;5;241m=\u001b[39m plt\u001b[38;5;241m.\u001b[39mgcf()\n\u001b[0;32m      3\u001b[0m fig\u001b[38;5;241m.\u001b[39mset_size_inches(\u001b[38;5;241m5\u001b[39m,\u001b[38;5;241m5\u001b[39m)\n",
      "File \u001b[1;32m~\\anaconda3\\Lib\\site-packages\\seaborn\\categorical.py:2943\u001b[0m, in \u001b[0;36mcountplot\u001b[1;34m(data, x, y, hue, order, hue_order, orient, color, palette, saturation, width, dodge, ax, **kwargs)\u001b[0m\n\u001b[0;32m   2940\u001b[0m \u001b[38;5;28;01melif\u001b[39;00m x \u001b[38;5;129;01mis\u001b[39;00m \u001b[38;5;129;01mnot\u001b[39;00m \u001b[38;5;28;01mNone\u001b[39;00m \u001b[38;5;129;01mand\u001b[39;00m y \u001b[38;5;129;01mis\u001b[39;00m \u001b[38;5;129;01mnot\u001b[39;00m \u001b[38;5;28;01mNone\u001b[39;00m:\n\u001b[0;32m   2941\u001b[0m     \u001b[38;5;28;01mraise\u001b[39;00m \u001b[38;5;167;01mValueError\u001b[39;00m(\u001b[38;5;124m\"\u001b[39m\u001b[38;5;124mCannot pass values for both `x` and `y`\u001b[39m\u001b[38;5;124m\"\u001b[39m)\n\u001b[1;32m-> 2943\u001b[0m plotter \u001b[38;5;241m=\u001b[39m _CountPlotter(\n\u001b[0;32m   2944\u001b[0m     x, y, hue, data, order, hue_order,\n\u001b[0;32m   2945\u001b[0m     estimator, errorbar, n_boot, units, seed,\n\u001b[0;32m   2946\u001b[0m     orient, color, palette, saturation,\n\u001b[0;32m   2947\u001b[0m     width, errcolor, errwidth, capsize, dodge\n\u001b[0;32m   2948\u001b[0m )\n\u001b[0;32m   2950\u001b[0m plotter\u001b[38;5;241m.\u001b[39mvalue_label \u001b[38;5;241m=\u001b[39m \u001b[38;5;124m\"\u001b[39m\u001b[38;5;124mcount\u001b[39m\u001b[38;5;124m\"\u001b[39m\n\u001b[0;32m   2952\u001b[0m \u001b[38;5;28;01mif\u001b[39;00m ax \u001b[38;5;129;01mis\u001b[39;00m \u001b[38;5;28;01mNone\u001b[39;00m:\n",
      "File \u001b[1;32m~\\anaconda3\\Lib\\site-packages\\seaborn\\categorical.py:1530\u001b[0m, in \u001b[0;36m_BarPlotter.__init__\u001b[1;34m(self, x, y, hue, data, order, hue_order, estimator, errorbar, n_boot, units, seed, orient, color, palette, saturation, width, errcolor, errwidth, capsize, dodge)\u001b[0m\n\u001b[0;32m   1525\u001b[0m \u001b[38;5;28;01mdef\u001b[39;00m \u001b[38;5;21m__init__\u001b[39m(\u001b[38;5;28mself\u001b[39m, x, y, hue, data, order, hue_order,\n\u001b[0;32m   1526\u001b[0m              estimator, errorbar, n_boot, units, seed,\n\u001b[0;32m   1527\u001b[0m              orient, color, palette, saturation, width,\n\u001b[0;32m   1528\u001b[0m              errcolor, errwidth, capsize, dodge):\n\u001b[0;32m   1529\u001b[0m \u001b[38;5;250m    \u001b[39m\u001b[38;5;124;03m\"\"\"Initialize the plotter.\"\"\"\u001b[39;00m\n\u001b[1;32m-> 1530\u001b[0m     \u001b[38;5;28mself\u001b[39m\u001b[38;5;241m.\u001b[39mestablish_variables(x, y, hue, data, orient,\n\u001b[0;32m   1531\u001b[0m                              order, hue_order, units)\n\u001b[0;32m   1532\u001b[0m     \u001b[38;5;28mself\u001b[39m\u001b[38;5;241m.\u001b[39mestablish_colors(color, palette, saturation)\n\u001b[0;32m   1533\u001b[0m     \u001b[38;5;28mself\u001b[39m\u001b[38;5;241m.\u001b[39mestimate_statistic(estimator, errorbar, n_boot, seed)\n",
      "File \u001b[1;32m~\\anaconda3\\Lib\\site-packages\\seaborn\\categorical.py:516\u001b[0m, in \u001b[0;36m_CategoricalPlotter.establish_variables\u001b[1;34m(self, x, y, hue, data, orient, order, hue_order, units)\u001b[0m\n\u001b[0;32m    513\u001b[0m     plot_data \u001b[38;5;241m=\u001b[39m data\n\u001b[0;32m    515\u001b[0m \u001b[38;5;66;03m# Convert to a list of arrays, the common representation\u001b[39;00m\n\u001b[1;32m--> 516\u001b[0m plot_data \u001b[38;5;241m=\u001b[39m [np\u001b[38;5;241m.\u001b[39masarray(d, \u001b[38;5;28mfloat\u001b[39m) \u001b[38;5;28;01mfor\u001b[39;00m d \u001b[38;5;129;01min\u001b[39;00m plot_data]\n\u001b[0;32m    518\u001b[0m \u001b[38;5;66;03m# The group names will just be numeric indices\u001b[39;00m\n\u001b[0;32m    519\u001b[0m group_names \u001b[38;5;241m=\u001b[39m \u001b[38;5;28mlist\u001b[39m(\u001b[38;5;28mrange\u001b[39m(\u001b[38;5;28mlen\u001b[39m(plot_data)))\n",
      "File \u001b[1;32m~\\anaconda3\\Lib\\site-packages\\seaborn\\categorical.py:516\u001b[0m, in \u001b[0;36m<listcomp>\u001b[1;34m(.0)\u001b[0m\n\u001b[0;32m    513\u001b[0m     plot_data \u001b[38;5;241m=\u001b[39m data\n\u001b[0;32m    515\u001b[0m \u001b[38;5;66;03m# Convert to a list of arrays, the common representation\u001b[39;00m\n\u001b[1;32m--> 516\u001b[0m plot_data \u001b[38;5;241m=\u001b[39m [np\u001b[38;5;241m.\u001b[39masarray(d, \u001b[38;5;28mfloat\u001b[39m) \u001b[38;5;28;01mfor\u001b[39;00m d \u001b[38;5;129;01min\u001b[39;00m plot_data]\n\u001b[0;32m    518\u001b[0m \u001b[38;5;66;03m# The group names will just be numeric indices\u001b[39;00m\n\u001b[0;32m    519\u001b[0m group_names \u001b[38;5;241m=\u001b[39m \u001b[38;5;28mlist\u001b[39m(\u001b[38;5;28mrange\u001b[39m(\u001b[38;5;28mlen\u001b[39m(plot_data)))\n",
      "File \u001b[1;32m~\\anaconda3\\Lib\\site-packages\\pandas\\core\\series.py:893\u001b[0m, in \u001b[0;36mSeries.__array__\u001b[1;34m(self, dtype)\u001b[0m\n\u001b[0;32m    846\u001b[0m \u001b[38;5;28;01mdef\u001b[39;00m \u001b[38;5;21m__array__\u001b[39m(\u001b[38;5;28mself\u001b[39m, dtype: npt\u001b[38;5;241m.\u001b[39mDTypeLike \u001b[38;5;241m|\u001b[39m \u001b[38;5;28;01mNone\u001b[39;00m \u001b[38;5;241m=\u001b[39m \u001b[38;5;28;01mNone\u001b[39;00m) \u001b[38;5;241m-\u001b[39m\u001b[38;5;241m>\u001b[39m np\u001b[38;5;241m.\u001b[39mndarray:\n\u001b[0;32m    847\u001b[0m \u001b[38;5;250m    \u001b[39m\u001b[38;5;124;03m\"\"\"\u001b[39;00m\n\u001b[0;32m    848\u001b[0m \u001b[38;5;124;03m    Return the values as a NumPy array.\u001b[39;00m\n\u001b[0;32m    849\u001b[0m \n\u001b[1;32m   (...)\u001b[0m\n\u001b[0;32m    891\u001b[0m \u001b[38;5;124;03m          dtype='datetime64[ns]')\u001b[39;00m\n\u001b[0;32m    892\u001b[0m \u001b[38;5;124;03m    \"\"\"\u001b[39;00m\n\u001b[1;32m--> 893\u001b[0m     \u001b[38;5;28;01mreturn\u001b[39;00m np\u001b[38;5;241m.\u001b[39masarray(\u001b[38;5;28mself\u001b[39m\u001b[38;5;241m.\u001b[39m_values, dtype)\n",
      "\u001b[1;31mValueError\u001b[0m: could not convert string to float: 'Yes'"
     ]
    }
   ],
   "source": [
    "sns.countplot(df['online_order'])\n",
    "fig = plt.gcf()\n",
    "fig.set_size_inches(5,5)\n",
    "plt.title('Whether Restaurants deliver online or Not')\n",
    "plt.show()"
   ]
  },
  {
   "cell_type": "markdown",
   "id": "be0cb404",
   "metadata": {},
   "source": [
    "###### Above executions show that more than 30000 restaurants has the facility of online delivery"
   ]
  },
  {
   "cell_type": "markdown",
   "id": "007439ac",
   "metadata": {},
   "source": [
    "### Let's check how many restaurants offer Pre Booking Table bookings"
   ]
  },
  {
   "cell_type": "code",
   "execution_count": null,
   "id": "cb6515e9",
   "metadata": {},
   "outputs": [],
   "source": [
    "data = df[['name', 'book_table']].drop_duplicates()\n",
    "\n",
    "plt.figure(figsize = (6,5))\n",
    "fx = sns.countplot(x=\"book_table\", data=data).set_title('Pre Booking Facility', fontsize = 12)\n",
    "plt.show()"
   ]
  },
  {
   "cell_type": "markdown",
   "id": "b8319621",
   "metadata": {},
   "source": [
    "###### Above execution show less than 1000 restauranrs have prebooking table facility"
   ]
  },
  {
   "cell_type": "markdown",
   "id": "a8538664",
   "metadata": {},
   "source": [
    "### Let's check the locations that have highest orders"
   ]
  },
  {
   "cell_type": "code",
   "execution_count": null,
   "id": "3d6d6f0e",
   "metadata": {},
   "outputs": [],
   "source": [
    "plt.figure(figsize = (12,6))\n",
    "data = df.location.value_counts()[0:25]\n",
    "data.plot(kind='pie')\n",
    "plt.title ('Top Locations get higher number of orders', size = 20)\n",
    "plt.show()"
   ]
  },
  {
   "cell_type": "markdown",
   "id": "890a21a6",
   "metadata": {},
   "source": [
    "###### Above execution shows that location \"BTM\" has highest number of orders"
   ]
  },
  {
   "cell_type": "markdown",
   "id": "3cad0d42",
   "metadata": {},
   "source": [
    "### Let's check for the most common ratings for the orders"
   ]
  },
  {
   "cell_type": "code",
   "execution_count": null,
   "id": "1315778e",
   "metadata": {},
   "outputs": [],
   "source": [
    "plt.figure(figsize=(8,7))\n",
    "\n",
    "sns.distplot(df['rate'],bins=30)"
   ]
  },
  {
   "cell_type": "markdown",
   "id": "96547848",
   "metadata": {},
   "source": [
    "###### Above execution shows us that maximum number of orders got 3.7 rating for their restaurants."
   ]
  },
  {
   "cell_type": "markdown",
   "id": "144c5959",
   "metadata": {},
   "source": [
    "### Let's check for the Common Approximate Costs for meal of two people"
   ]
  },
  {
   "cell_type": "code",
   "execution_count": null,
   "id": "3d66184d",
   "metadata": {},
   "outputs": [],
   "source": [
    "data = pd.DataFrame(df[\"approx_cost\"].value_counts().reset_index()[:25])\n",
    "data.columns = ['approx_cost', 'count']\n",
    "data = data.set_index('approx_cost')\n",
    "plt.figure(figsize = (15, 7))\n",
    "sns.barplot(x = data.index, y=data['count'])\n",
    "plt.xlabel('Rate for Two People', size=20)\n",
    "plt.ylabel('No. of orders', size=20)\n",
    "plt.xticks(size=10)\n",
    "plt.yticks(size=10)\n",
    "plt.title('Top preferred costs for two people', size = 25)\n",
    "plt.show()\n"
   ]
  },
  {
   "cell_type": "markdown",
   "id": "fdb59fb3",
   "metadata": {},
   "source": [
    "### Let's check top 10  types of the orders restaurants offer"
   ]
  },
  {
   "cell_type": "code",
   "execution_count": null,
   "id": "5a6b4abb",
   "metadata": {},
   "outputs": [],
   "source": [
    "plt.figure(figsize=(12,5))\n",
    "abc = df.rest_type.value_counts()[:10]\n",
    "abc.plot(kind='pie')\n",
    "plt.title(\"Most Famous Restaurant Types\",fontsize=15)\n",
    "\n",
    "plt.show()"
   ]
  },
  {
   "cell_type": "markdown",
   "id": "8ace98ca",
   "metadata": {},
   "source": [
    "### Let's check for Most famous Cusines among People"
   ]
  },
  {
   "cell_type": "code",
   "execution_count": null,
   "id": "439cbaa4",
   "metadata": {},
   "outputs": [],
   "source": [
    "plt.figure(figsize=(12,5))\n",
    "xyz = df.cuisines.value_counts()[:20].plot(kind='pie')\n",
    "plt.title(\"Most famous Cusines among People\",fontsize=15)\n",
    "plt.show()"
   ]
  },
  {
   "cell_type": "markdown",
   "id": "1c8a7837",
   "metadata": {},
   "source": [
    "### Let's check for the Top Locations with Most Number of Restaurants"
   ]
  },
  {
   "cell_type": "code",
   "execution_count": null,
   "id": "9799ad21",
   "metadata": {
    "scrolled": true
   },
   "outputs": [],
   "source": [
    "loc = pd.DataFrame(df.groupby(by='location')['name'].nunique())\n",
    "loc.columns = ['count']\n",
    "loc.sort_values(by='count', ascending= False, inplace=True)\n",
    "plt.rcParams['figure.figsize'] = (8,6)\n",
    "ax = loc[0:10].plot(kind='pie', subplots = True)\n",
    "plt.title('Top Locations with Most Number of Restaurants', size = 15)\n",
    "plt.show()"
   ]
  },
  {
   "cell_type": "markdown",
   "id": "034258e8",
   "metadata": {},
   "source": [
    "### Let's find the Relationship between the features."
   ]
  },
  {
   "cell_type": "code",
   "execution_count": null,
   "id": "935283b9",
   "metadata": {},
   "outputs": [],
   "source": [
    "plt.figure(figsize=(6,4))\n",
    "\n",
    "sns.heatmap(df.corr(),linewidths=.1,cmap=\"YlGnBu\", annot=True)\n",
    "\n",
    "plt.yticks(rotation=0);"
   ]
  },
  {
   "cell_type": "markdown",
   "id": "aa7847aa",
   "metadata": {},
   "source": [
    "## Let's Build Our Model"
   ]
  },
  {
   "cell_type": "code",
   "execution_count": null,
   "id": "ae9066fa",
   "metadata": {},
   "outputs": [],
   "source": [
    "df.head()"
   ]
  },
  {
   "cell_type": "markdown",
   "id": "128ade3f",
   "metadata": {},
   "source": [
    "### Let's Convert the categorical variables into a numeric format"
   ]
  },
  {
   "cell_type": "markdown",
   "id": "6a35b511",
   "metadata": {},
   "source": [
    "### For the column \"online_order\""
   ]
  },
  {
   "cell_type": "code",
   "execution_count": null,
   "id": "1398f2a7",
   "metadata": {},
   "outputs": [],
   "source": [
    "df.online_order[df.online_order == 'Yes'] = 1 \n",
    "df.online_order[df.online_order == 'No'] = 0"
   ]
  },
  {
   "cell_type": "code",
   "execution_count": null,
   "id": "a18206e5",
   "metadata": {},
   "outputs": [],
   "source": [
    "df.head()"
   ]
  },
  {
   "cell_type": "markdown",
   "id": "a141d5b4",
   "metadata": {},
   "source": [
    "### For the column \"book_table\""
   ]
  },
  {
   "cell_type": "code",
   "execution_count": null,
   "id": "a3a68cae",
   "metadata": {},
   "outputs": [],
   "source": [
    "df.book_table[df.book_table == 'Yes'] = 1 \n",
    "df.book_table[df.book_table == 'No'] = 0\n",
    "df.head()"
   ]
  },
  {
   "cell_type": "markdown",
   "id": "fc20d5d6",
   "metadata": {},
   "source": [
    "### For the Rest Type Column"
   ]
  },
  {
   "cell_type": "code",
   "execution_count": null,
   "id": "88404524",
   "metadata": {},
   "outputs": [],
   "source": [
    "rest_df = pd.DataFrame(df['rest_type'])\n",
    "rts = list(rest_df.rest_type.str.split(\", \"))\n",
    "unique_rts = list(set([rt for sub_list in rts for rt in sub_list]))\n",
    "\n",
    "for rt in unique_rts:\n",
    "    rest_df[rt] = int(0)\n",
    "    \n",
    "rest_df.head()"
   ]
  },
  {
   "cell_type": "code",
   "execution_count": null,
   "id": "d476a93a",
   "metadata": {},
   "outputs": [],
   "source": [
    "count = 0\n",
    "for i in rts:\n",
    "    rest_df.loc[count, i] = int(1)       \n",
    "    count+=1"
   ]
  },
  {
   "cell_type": "code",
   "execution_count": null,
   "id": "2d4911dd",
   "metadata": {},
   "outputs": [],
   "source": [
    "rest_df.head()"
   ]
  },
  {
   "cell_type": "code",
   "execution_count": null,
   "id": "7f0d308f",
   "metadata": {},
   "outputs": [],
   "source": [
    "\n",
    "rest_df.drop(['rest_type'], axis = 1, inplace=True)\n",
    "rest_df.head()"
   ]
  },
  {
   "cell_type": "markdown",
   "id": "55d1c2a8",
   "metadata": {},
   "source": [
    "### For Cuisines Column"
   ]
  },
  {
   "cell_type": "code",
   "execution_count": null,
   "id": "7149b80d",
   "metadata": {},
   "outputs": [],
   "source": [
    "cuisines_df = pd.DataFrame(df['cuisines'])\n",
    "cuisines = list(cuisines_df.cuisines.str.split(\", \"))\n",
    "unique_cuisines = list(set([cs for sub_list in cuisines for cs in sub_list]))\n",
    "unique_cuisines.remove(\"Cafe\") \n",
    "unique_cuisines.remove(\"Bakery\")\n",
    "\n",
    "for cn in unique_cuisines:\n",
    "    cuisines_df[cn] = 0   \n",
    "    \n",
    "cuisines_df.head()\n"
   ]
  },
  {
   "cell_type": "code",
   "execution_count": null,
   "id": "18372cc9",
   "metadata": {},
   "outputs": [],
   "source": [
    "\n",
    "correct_cn = []\n",
    "for i in cuisines:\n",
    "    if \"Cafe\" in i:\n",
    "        i.remove(\"Cafe\") \n",
    "    if \"Bakery\" in i:\n",
    "        i.remove(\"Bakery\")\n",
    "    correct_cn.append(list(set(i)))\n",
    "    \n",
    "    count = 0\n",
    "for i in correct_cn:\n",
    "    cuisines_df.loc[count, i] = int(1)\n",
    "    count+=1\n",
    "    \n",
    "    \n",
    "cuisines_df.head()"
   ]
  },
  {
   "cell_type": "code",
   "execution_count": null,
   "id": "7311464e",
   "metadata": {},
   "outputs": [],
   "source": [
    "\n",
    "cuisines_df.drop(['cuisines'], axis = 1, inplace=True)\n",
    "cuisines_df.head()"
   ]
  },
  {
   "cell_type": "markdown",
   "id": "2a134669",
   "metadata": {},
   "source": [
    "### For the \"Location\" column"
   ]
  },
  {
   "cell_type": "code",
   "execution_count": null,
   "id": "bbfe5b36",
   "metadata": {},
   "outputs": [],
   "source": [
    "location_df = df['location']\n",
    "location_df = pd.get_dummies(location_df)\n",
    "location_df.head()\n"
   ]
  },
  {
   "cell_type": "code",
   "execution_count": null,
   "id": "92912592",
   "metadata": {},
   "outputs": [],
   "source": [
    "data_with_location = pd.concat([df, rest_df, cuisines_df, location_df], axis=1)\n",
    "data_with_location.head()"
   ]
  },
  {
   "cell_type": "markdown",
   "id": "4b94c8a5",
   "metadata": {},
   "source": [
    "### For the \"Area\" Column"
   ]
  },
  {
   "cell_type": "code",
   "execution_count": null,
   "id": "23ce926d",
   "metadata": {},
   "outputs": [],
   "source": [
    "area_df = df['area']\n",
    "area_df = pd.get_dummies(area_df)\n",
    "area_df.head()"
   ]
  },
  {
   "cell_type": "code",
   "execution_count": null,
   "id": "d19e98c4",
   "metadata": {},
   "outputs": [],
   "source": [
    "data_with_area = pd.concat([df, rest_df, cuisines_df, area_df], axis = 1)\n",
    "data_with_area.head()"
   ]
  },
  {
   "cell_type": "markdown",
   "id": "d277b7fe",
   "metadata": {},
   "source": [
    "### Let's do the Feature Selection"
   ]
  },
  {
   "cell_type": "code",
   "execution_count": null,
   "id": "d8ba36a6",
   "metadata": {},
   "outputs": [],
   "source": [
    "data_with_location.drop(columns=['name', 'location', 'rest_type', 'cuisines', 'area'], axis = 1, inplace=True)\n",
    "data_with_area.drop(columns=['name', 'location', 'rest_type', 'cuisines', 'area'], axis=1, inplace=True)\n",
    "print(data_with_location.columns[200:])"
   ]
  },
  {
   "cell_type": "code",
   "execution_count": null,
   "id": "3e5c2579",
   "metadata": {},
   "outputs": [],
   "source": [
    "x1 = data_with_location.drop(\"rate\", axis = 1).values\n",
    "y1 = data_with_location[\"rate\"].values\n",
    "\n",
    "print(\"X = \", x1)\n",
    "print(\"Y = \", y1)"
   ]
  },
  {
   "cell_type": "code",
   "execution_count": null,
   "id": "11b68409",
   "metadata": {},
   "outputs": [],
   "source": [
    "x2 = data_with_area.drop(\"rate\", axis = 1).values\n",
    "y2 = data_with_area[\"rate\"].values\n",
    "\n",
    "print(\"X = \", x2)\n",
    "print()\n",
    "print(\"Y = \", y2)"
   ]
  },
  {
   "cell_type": "markdown",
   "id": "b44da3d2",
   "metadata": {},
   "source": [
    "# ExtraTree Regressor"
   ]
  },
  {
   "cell_type": "code",
   "execution_count": null,
   "id": "a6ce832a",
   "metadata": {},
   "outputs": [],
   "source": [
    "from sklearn.ensemble import ExtraTreesRegressor"
   ]
  },
  {
   "cell_type": "code",
   "execution_count": null,
   "id": "2a0ce953",
   "metadata": {},
   "outputs": [],
   "source": [
    "imp_features1 = ExtraTreesRegressor()\n",
    "imp_features1.fit(x1, y1)\n",
    "print(imp_features1.feature_importances_)"
   ]
  },
  {
   "cell_type": "code",
   "execution_count": null,
   "id": "2c314eb8",
   "metadata": {},
   "outputs": [],
   "source": [
    "plt.figure(figsize = (12, 8))\n",
    "columns = data_with_location.drop(\"rate\", axis = 1).columns\n",
    "fseries = pd.Series(imp_features1.feature_importances_, index = columns)\n",
    "fseries.nlargest(25).plot(kind = \"bar\")"
   ]
  },
  {
   "cell_type": "code",
   "execution_count": null,
   "id": "06ee95fe",
   "metadata": {},
   "outputs": [],
   "source": [
    "imp_features2 = ExtraTreesRegressor()\n",
    "imp_features2.fit(x2, y2)\n",
    "print(imp_features2.feature_importances_)"
   ]
  },
  {
   "cell_type": "code",
   "execution_count": null,
   "id": "2612a183",
   "metadata": {},
   "outputs": [],
   "source": [
    "plt.figure(figsize = (12,8))\n",
    "columns = data_with_area.drop(\"rate\", axis = 1).columns\n",
    "fseries = pd.Series(imp_features2.feature_importances_, index = columns)\n",
    "fseries.nlargest(25).plot(kind = \"bar\")"
   ]
  },
  {
   "cell_type": "markdown",
   "id": "c746057f",
   "metadata": {},
   "source": [
    "# Train Test Splitting of Data"
   ]
  },
  {
   "cell_type": "code",
   "execution_count": null,
   "id": "b72c0444",
   "metadata": {},
   "outputs": [],
   "source": [
    "from sklearn.model_selection import train_test_split"
   ]
  },
  {
   "cell_type": "code",
   "execution_count": null,
   "id": "6a28504c",
   "metadata": {},
   "outputs": [],
   "source": [
    "X1_train, X1_test, Y1_train, Y1_test = train_test_split(x1, y1, test_size=0.2, random_state=42)"
   ]
  },
  {
   "cell_type": "code",
   "execution_count": null,
   "id": "5b6e22de",
   "metadata": {},
   "outputs": [],
   "source": [
    "X2_train, X2_test, Y2_train, Y2_test = train_test_split(x2, y2, test_size=0.2, random_state=45)\n"
   ]
  },
  {
   "cell_type": "markdown",
   "id": "a0168aed",
   "metadata": {},
   "source": [
    "# Let's import ML Models"
   ]
  },
  {
   "cell_type": "code",
   "execution_count": null,
   "id": "ce20f30e",
   "metadata": {},
   "outputs": [],
   "source": [
    "from sklearn.linear_model import LinearRegression\n",
    "from sklearn.ensemble import RandomForestRegressor\n",
    "from sklearn.tree import DecisionTreeRegressor"
   ]
  },
  {
   "cell_type": "markdown",
   "id": "91b25ff4",
   "metadata": {},
   "source": [
    "# Linear Regression"
   ]
  },
  {
   "cell_type": "markdown",
   "id": "ea2509d9",
   "metadata": {},
   "source": [
    "### For data_with_location"
   ]
  },
  {
   "cell_type": "code",
   "execution_count": null,
   "id": "2283dcf2",
   "metadata": {},
   "outputs": [],
   "source": [
    "lr1 = LinearRegression()\n",
    "lr1.fit(X1_train, Y1_train)"
   ]
  },
  {
   "cell_type": "code",
   "execution_count": null,
   "id": "bc6568a8",
   "metadata": {},
   "outputs": [],
   "source": [
    "Y_lr1= lr1.predict(X1_test)\n",
    "Y_lr1[:200]"
   ]
  },
  {
   "cell_type": "code",
   "execution_count": null,
   "id": "41d839b0",
   "metadata": {},
   "outputs": [],
   "source": [
    "plt.figure(figsize=(10,7))\n",
    "sns.histplot(Y1_test - Y_lr1, kde=True)\n",
    "plt.show()\n"
   ]
  },
  {
   "cell_type": "markdown",
   "id": "91203ee8",
   "metadata": {},
   "source": [
    "### For the Data with area"
   ]
  },
  {
   "cell_type": "code",
   "execution_count": null,
   "id": "1fca95e5",
   "metadata": {},
   "outputs": [],
   "source": [
    "lr2 = LinearRegression()\n",
    "lr2.fit(X2_train, Y2_train)"
   ]
  },
  {
   "cell_type": "code",
   "execution_count": null,
   "id": "d8178967",
   "metadata": {},
   "outputs": [],
   "source": [
    "Y_lr2 = lr2.predict(X2_test)\n",
    "Y_lr2[:200]\n"
   ]
  },
  {
   "cell_type": "code",
   "execution_count": null,
   "id": "c976b73b",
   "metadata": {},
   "outputs": [],
   "source": [
    "plt.figure(figsize=(12,7))\n",
    "sns.histplot(Y2_test-Y_lr2, kde=True)\n",
    "plt.show()"
   ]
  },
  {
   "cell_type": "markdown",
   "id": "442fd724",
   "metadata": {},
   "source": [
    "# Random Forest Regression"
   ]
  },
  {
   "cell_type": "markdown",
   "id": "08aa12aa",
   "metadata": {},
   "source": [
    "### For data_with_location"
   ]
  },
  {
   "cell_type": "code",
   "execution_count": null,
   "id": "b1570ec3",
   "metadata": {},
   "outputs": [],
   "source": [
    "rf1 = RandomForestRegressor()\n",
    "rf1.fit(X1_train, Y1_train)"
   ]
  },
  {
   "cell_type": "code",
   "execution_count": null,
   "id": "0e889b38",
   "metadata": {},
   "outputs": [],
   "source": [
    "Y_rf1 = rf1.predict(X1_test)\n",
    "Y_rf1[:100]"
   ]
  },
  {
   "cell_type": "code",
   "execution_count": null,
   "id": "2834a22b",
   "metadata": {},
   "outputs": [],
   "source": [
    "plt.figure(figsize=(12,7))\n",
    "sns.histplot(Y1_test-Y_rf1, kde=True, bins=100)\n",
    "plt.show()"
   ]
  },
  {
   "cell_type": "markdown",
   "id": "f1bd9270",
   "metadata": {},
   "source": [
    "### For data_with_area"
   ]
  },
  {
   "cell_type": "code",
   "execution_count": null,
   "id": "dd6671ce",
   "metadata": {},
   "outputs": [],
   "source": [
    "rf2 = RandomForestRegressor()\n",
    "rf2.fit(X2_train, Y2_train)"
   ]
  },
  {
   "cell_type": "code",
   "execution_count": null,
   "id": "040d9bf7",
   "metadata": {},
   "outputs": [],
   "source": [
    "Y_rf2 = rf2.predict(X2_test)\n",
    "Y_rf2[:100]"
   ]
  },
  {
   "cell_type": "code",
   "execution_count": null,
   "id": "e9b31c43",
   "metadata": {},
   "outputs": [],
   "source": [
    "plt.figure(figsize=(12,7))\n",
    "sns.histplot(Y2_test - Y_rf2, kde=True, bins=100)\n",
    "plt.show()"
   ]
  },
  {
   "cell_type": "markdown",
   "id": "2a967d0c",
   "metadata": {},
   "source": [
    "# Decision Tree Regressor"
   ]
  },
  {
   "cell_type": "markdown",
   "id": "33aca3c0",
   "metadata": {},
   "source": [
    "### For Data_With_Location"
   ]
  },
  {
   "cell_type": "code",
   "execution_count": null,
   "id": "a96d94a5",
   "metadata": {},
   "outputs": [],
   "source": [
    "dt1 = DecisionTreeRegressor()\n",
    "dt1.fit(X1_train, Y1_train)"
   ]
  },
  {
   "cell_type": "code",
   "execution_count": null,
   "id": "c3332c77",
   "metadata": {},
   "outputs": [],
   "source": [
    "Y_dt1 = dt1.predict(X1_test)\n",
    "Y_dt1[:100]"
   ]
  },
  {
   "cell_type": "code",
   "execution_count": null,
   "id": "39dfb53e",
   "metadata": {},
   "outputs": [],
   "source": [
    "plt.figure(figsize=(12,8))\n",
    "plt.hist(Y1_test-Y_dt1, bins=100, alpha=0.6)\n",
    "plt.show()"
   ]
  },
  {
   "cell_type": "markdown",
   "id": "4eaa2b54",
   "metadata": {},
   "source": [
    "### For Data_with_Area"
   ]
  },
  {
   "cell_type": "code",
   "execution_count": null,
   "id": "a10b6b8c",
   "metadata": {},
   "outputs": [],
   "source": [
    "dt2 = DecisionTreeRegressor()\n",
    "dt2.fit(X2_train, Y2_train)"
   ]
  },
  {
   "cell_type": "code",
   "execution_count": null,
   "id": "cc6406ea",
   "metadata": {},
   "outputs": [],
   "source": [
    "Y_dt2 = dt2.predict(X2_test)\n",
    "Y_dt2[:100]"
   ]
  },
  {
   "cell_type": "code",
   "execution_count": null,
   "id": "c16e354e",
   "metadata": {},
   "outputs": [],
   "source": [
    "plt.figure(figsize=(12,8))\n",
    "plt.hist(Y2_test - Y_dt2, bins=100, alpha=0.7)\n",
    "plt.show()"
   ]
  },
  {
   "cell_type": "markdown",
   "id": "f0bafe87",
   "metadata": {},
   "source": [
    "# Model Evaluation"
   ]
  },
  {
   "cell_type": "code",
   "execution_count": null,
   "id": "57f731fe",
   "metadata": {},
   "outputs": [],
   "source": [
    "from sklearn.metrics import mean_absolute_error, mean_squared_error, r2_score"
   ]
  },
  {
   "cell_type": "markdown",
   "id": "e8d66e2c",
   "metadata": {},
   "source": [
    "## Linear Regression Model"
   ]
  },
  {
   "cell_type": "markdown",
   "id": "5388dd32",
   "metadata": {},
   "source": [
    "### for data_with_location"
   ]
  },
  {
   "cell_type": "code",
   "execution_count": null,
   "id": "6f42ab61",
   "metadata": {},
   "outputs": [],
   "source": [
    "mae =  mean_absolute_error(Y1_test, Y_lr1)\n",
    "mse = mean_squared_error(Y1_test, Y_lr1)\n",
    "r2score = r2_score(Y1_test, Y_lr1)\n",
    "\n",
    "print(\"Coefficient of Determination for train data : \",lr1.score(X1_train, Y1_train))\n",
    "print(\"Coefficient of Determination for test data : \",lr1.score(X1_test, Y1_test))\n",
    "print(\"Mean Absolute Error : \", mae)\n",
    "print(\"Mean Squared Error : \", mse) \n",
    "print(\"Root Mean Squared Error : \", np.sqrt(mse))\n",
    "print(\"R2 Score : \", r2score) "
   ]
  },
  {
   "cell_type": "markdown",
   "id": "b02ba1ae",
   "metadata": {},
   "source": [
    "### for data_with_area"
   ]
  },
  {
   "cell_type": "code",
   "execution_count": null,
   "id": "dc1363fc",
   "metadata": {},
   "outputs": [],
   "source": [
    "mae =  mean_absolute_error(Y2_test, Y_lr2)\n",
    "mse = mean_squared_error(Y2_test, Y_lr2)\n",
    "r2score = r2_score(Y2_test, Y_lr2)\n",
    "\n",
    "print(\"Coefficient of Determination for train data : \",lr2.score(X2_train, Y2_train))\n",
    "print(\"Coefficient of Determination for test data : \",lr2.score(X2_test, Y2_test))\n",
    "print(\"Mean Absolute Error : \", mae)\n",
    "print(\"Mean Squared Error : \", mse) \n",
    "print(\"Root Mean Squared Error : \", np.sqrt(mse))\n",
    "print(\"R2 Score : \", r2score) "
   ]
  },
  {
   "cell_type": "markdown",
   "id": "25949fad",
   "metadata": {},
   "source": [
    "# Random Forest Regression Model"
   ]
  },
  {
   "cell_type": "markdown",
   "id": "1952ce1e",
   "metadata": {},
   "source": [
    "### for data_with_location"
   ]
  },
  {
   "cell_type": "code",
   "execution_count": null,
   "id": "d208d9ad",
   "metadata": {},
   "outputs": [],
   "source": [
    "mae =  mean_absolute_error(Y1_test, Y_rf1)\n",
    "mse = mean_squared_error(Y1_test, Y_rf1)\n",
    "r2score = r2_score(Y1_test, Y_rf1)\n",
    "\n",
    "print(\"Coefficient of Determination for train data : \",rf1.score(X1_train, Y1_train))\n",
    "print(\"Coefficient of Determination for test data : \",rf1.score(X1_test, Y1_test))\n",
    "print(\"Mean Absolute Error : \", mae)\n",
    "print(\"Mean Squared Error : \", mse) \n",
    "print(\"Root Mean Squared Error : \", np.sqrt(mse))\n",
    "print(\"R2 Score : \", r2score) "
   ]
  },
  {
   "cell_type": "markdown",
   "id": "244689c9",
   "metadata": {},
   "source": [
    "### for data_with_area"
   ]
  },
  {
   "cell_type": "code",
   "execution_count": null,
   "id": "fe2c4c35",
   "metadata": {},
   "outputs": [],
   "source": [
    "mae =  mean_absolute_error(Y2_test, Y_rf2)\n",
    "mse = mean_squared_error(Y2_test, Y_rf2)\n",
    "r2score = r2_score(Y2_test, Y_rf2)\n",
    "\n",
    "print(\"Coefficient of Determination for train data : \",rf2.score(X2_train, Y2_train))\n",
    "print(\"Coefficient of Determination for test data : \",rf2.score(X2_test, Y2_test))\n",
    "print(\"Mean Absolute Error : \", mae)\n",
    "print(\"Mean Squared Error : \", mse) \n",
    "print(\"Root Mean Squared Error : \", np.sqrt(mse))\n",
    "print(\"R2 Score : \", r2score) "
   ]
  },
  {
   "cell_type": "markdown",
   "id": "30574840",
   "metadata": {},
   "source": [
    "# Decision Tree Regression Model"
   ]
  },
  {
   "cell_type": "markdown",
   "id": "9a459682",
   "metadata": {},
   "source": [
    "### for data_with_location"
   ]
  },
  {
   "cell_type": "code",
   "execution_count": null,
   "id": "c5d01fc2",
   "metadata": {},
   "outputs": [],
   "source": [
    "mae =  mean_absolute_error(Y1_test, Y_dt1)\n",
    "mse = mean_squared_error(Y1_test, Y_dt1)\n",
    "r2score = r2_score(Y1_test, Y_dt1)\n",
    "\n",
    "print(\"Coefficient of Determination for train data : \",dt1.score(X1_train, Y1_train))\n",
    "print(\"Coefficient of Determination for test data : \",dt1.score(X1_test, Y1_test))\n",
    "print(\"Mean Absolute Error : \", mae)\n",
    "print(\"Mean Squared Error : \", mse) \n",
    "print(\"Root Mean Squared Error : \", np.sqrt(mse))\n",
    "print(\"R2 Score : \", r2score) "
   ]
  },
  {
   "cell_type": "markdown",
   "id": "1948ec3b",
   "metadata": {},
   "source": [
    "### for data_with_area"
   ]
  },
  {
   "cell_type": "code",
   "execution_count": null,
   "id": "9821e95d",
   "metadata": {},
   "outputs": [],
   "source": [
    "mae =  mean_absolute_error(Y2_test, Y_dt2)\n",
    "mse = mean_squared_error(Y2_test, Y_dt2)\n",
    "r2score = r2_score(Y2_test, Y_dt2)\n",
    "\n",
    "\n",
    "print(\"Coefficient of Determination for train data : \",dt2.score(X2_train, Y2_train))\n",
    "print(\"Coefficient of Determination for test data : \",dt2.score(X2_test, Y2_test))\n",
    "print(\"Mean Absolute Error : \", mae)\n",
    "print(\"Mean Squared Error : \", mse) \n",
    "print(\"Root Mean Squared Error : \", np.sqrt(mse))\n",
    "print(\"R2 Score : \", r2score) "
   ]
  },
  {
   "cell_type": "markdown",
   "id": "4893de03",
   "metadata": {},
   "source": [
    "###### All the ThreeModels has been tranied, Linear regression, Random forest regression and Decision tree regression.\n",
    "###### In this model best model for prediction is Random forest regression model.so we will be using Random forest regression model.\n",
    "###### Selected model accuracy is 90% up."
   ]
  },
  {
   "cell_type": "markdown",
   "id": "d91c9934",
   "metadata": {},
   "source": [
    "# SAVE MODEL"
   ]
  },
  {
   "cell_type": "code",
   "execution_count": null,
   "id": "9671478c",
   "metadata": {},
   "outputs": [],
   "source": [
    "import pickle"
   ]
  },
  {
   "cell_type": "code",
   "execution_count": null,
   "id": "4581423c",
   "metadata": {},
   "outputs": [],
   "source": [
    "with open('rating_prediction.pkl', 'wb') as file:\n",
    "    pickle.dump(rf1, file)"
   ]
  },
  {
   "cell_type": "code",
   "execution_count": null,
   "id": "3d4e6cf2",
   "metadata": {},
   "outputs": [],
   "source": []
  },
  {
   "cell_type": "code",
   "execution_count": null,
   "id": "7a37ebcc",
   "metadata": {},
   "outputs": [],
   "source": []
  }
 ],
 "metadata": {
  "kernelspec": {
   "display_name": "Python 3 (ipykernel)",
   "language": "python",
   "name": "python3"
  },
  "language_info": {
   "codemirror_mode": {
    "name": "ipython",
    "version": 3
   },
   "file_extension": ".py",
   "mimetype": "text/x-python",
   "name": "python",
   "nbconvert_exporter": "python",
   "pygments_lexer": "ipython3",
   "version": "3.11.4"
  }
 },
 "nbformat": 4,
 "nbformat_minor": 5
}
